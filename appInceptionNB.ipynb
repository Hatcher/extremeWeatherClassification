
inceptionV3_model = keras.applications.inception_v3() #Import the inception v3 network.
invceptionV3_model.summary()
type()
